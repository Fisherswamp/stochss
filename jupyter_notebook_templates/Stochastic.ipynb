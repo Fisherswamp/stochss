{
 "cells": [
  {
   "cell_type": "code",
   "execution_count": 15,
   "metadata": {
    "collapsed": false
   },
   "outputs": [
    {
     "name": "stdout",
     "output_type": "stream",
     "text": [
      "Using matplotlib backend: MacOSX\n"
     ]
    }
   ],
   "source": [
    "%matplotlib\n",
    "%matplotlib inline\n",
    "import numpy\n",
    "from matplotlib import pylab as plt"
   ]
  },
  {
   "cell_type": "code",
   "execution_count": 16,
   "metadata": {
    "collapsed": false
   },
   "outputs": [
    {
     "name": "stdout",
     "output_type": "stream",
     "text": [
      "['time', 'G_F', 'G_O', 'P', 'mRNA']\n"
     ]
    }
   ],
   "source": [
    "result_file_name = 'result/trajectories/trajectory0.txt'\n",
    "trajectory = numpy.loadtxt(result_file_name, skiprows=1)\n",
    "labels = []\n",
    "with open(result_file_name, 'r') as f:\n",
    "    first_line= f.readline()\n",
    "    labels = first_line.split()\n",
    "    print labels"
   ]
  },
  {
   "cell_type": "code",
   "execution_count": 17,
   "metadata": {
    "collapsed": false
   },
   "outputs": [
    {
     "data": {
      "image/png": "[encoded data removed]",
      "text/plain": [
       "<matplotlib.figure.Figure at 0x10d84f6d0>"
      ]
     },
     "metadata": {},
     "output_type": "display_data"
    }
   ],
   "source": [
    "for ndx,name in enumerate(labels):\n",
    "    if ndx>0:\n",
    "        plt.plot(trajectory[:,0],trajectory[:,ndx],'-', label=name)\n",
    "plt.legend(loc='best')\n",
    "_ = plt.ylim(ymin=-0.1, ymax=plt.ylim()[1]*1.1)"
   ]
  },
  {
   "cell_type": "code",
   "execution_count": 18,
   "metadata": {
    "collapsed": false
   },
   "outputs": [
    {
     "name": "stdout",
     "output_type": "stream",
     "text": [
      "time\tG_F\tG_O\tP\tmRNA\t\r\n",
      "0\t1\t0\t0\t0\t\r\n",
      "1\t1\t0\t0\t0\t\r\n",
      "2\t1\t0\t0\t0\t\r\n",
      "3\t1\t0\t0\t0\t\r\n",
      "4\t1\t0\t0\t0\t\r\n",
      "5\t1\t0\t0\t0\t\r\n",
      "6\t1\t0\t0\t0\t\r\n",
      "7\t1\t0\t0\t0\t\r\n",
      "8\t1\t0\t0\t0\t\r\n",
      "9\t1\t0\t0\t0\t\r\n",
      "10\t1\t0\t0\t0\t\r\n",
      "11\t1\t0\t0\t0\t\r\n",
      "12\t1\t0\t0\t0\t\r\n",
      "13\t1\t0\t0\t0\t\r\n",
      "14\t1\t0\t0\t0\t\r\n",
      "15\t1\t0\t0\t0\t\r\n",
      "16\t1\t0\t0\t0\t\r\n",
      "17\t1\t0\t0\t0\t\r\n",
      "18\t1\t0\t0\t0\t\r\n",
      "19\t1\t0\t0\t0\t\r\n",
      "20\t1\t0\t0\t0\t\r\n",
      "21\t1\t0\t0\t0\t\r\n",
      "22\t1\t0\t0\t0\t\r\n",
      "23\t1\t0\t0\t0\t\r\n",
      "24\t1\t0\t0\t0\t\r\n",
      "25\t1\t0\t0\t0\t\r\n",
      "26\t1\t0\t0\t0\t\r\n",
      "27\t1\t0\t0\t0\t\r\n",
      "28\t1\t0\t0\t0\t\r\n",
      "29\t1\t0\t0\t0\t\r\n",
      "30\t1\t0\t0\t0\t\r\n",
      "31\t1\t0\t0\t0\t\r\n",
      "32\t1\t0\t0\t0\t\r\n",
      "33\t1\t0\t0\t0\t\r\n",
      "34\t1\t0\t0\t0\t\r\n",
      "35\t1\t0\t0\t0\t\r\n",
      "36\t1\t0\t0\t0\t\r\n",
      "37\t1\t0\t0\t0\t\r\n",
      "38\t1\t0\t0\t0\t\r\n",
      "39\t1\t0\t0\t0\t\r\n",
      "40\t1\t0\t0\t0\t\r\n",
      "41\t1\t0\t0\t0\t\r\n",
      "42\t1\t0\t0\t0\t\r\n",
      "43\t1\t0\t0\t0\t\r\n",
      "44\t1\t0\t0\t0\t\r\n",
      "45\t1\t0\t0\t0\t\r\n",
      "46\t1\t0\t0\t0\t\r\n",
      "47\t1\t0\t0\t0\t\r\n",
      "48\t1\t0\t0\t0\t\r\n",
      "49\t1\t0\t0\t0\t\r\n",
      "50\t1\t0\t0\t0\t\r\n",
      "51\t1\t0\t0\t0\t\r\n",
      "52\t1\t0\t0\t0\t\r\n",
      "53\t1\t0\t0\t0\t\r\n",
      "54\t1\t0\t0\t0\t\r\n",
      "55\t1\t0\t0\t0\t\r\n",
      "56\t1\t0\t0\t0\t\r\n",
      "57\t1\t0\t0\t0\t\r\n",
      "58\t1\t0\t0\t0\t\r\n",
      "59\t1\t0\t0\t0\t\r\n",
      "60\t1\t0\t0\t0\t\r\n",
      "61\t1\t0\t0\t0\t\r\n",
      "62\t1\t0\t0\t0\t\r\n",
      "63\t1\t0\t0\t0\t\r\n",
      "64\t1\t0\t0\t0\t\r\n",
      "65\t1\t0\t0\t0\t\r\n",
      "66\t1\t0\t0\t0\t\r\n",
      "67\t1\t0\t0\t0\t\r\n",
      "68\t1\t0\t0\t0\t\r\n",
      "69\t1\t0\t0\t0\t\r\n",
      "70\t1\t0\t0\t0\t\r\n",
      "71\t1\t0\t0\t0\t\r\n",
      "72\t1\t0\t0\t0\t\r\n",
      "73\t1\t0\t0\t0\t\r\n",
      "74\t1\t0\t0\t0\t\r\n",
      "75\t1\t0\t0\t0\t\r\n",
      "76\t1\t0\t0\t0\t\r\n",
      "77\t1\t0\t0\t0\t\r\n",
      "78\t1\t0\t0\t0\t\r\n",
      "79\t1\t0\t0\t0\t\r\n",
      "80\t1\t0\t0\t0\t\r\n",
      "81\t1\t0\t0\t0\t\r\n",
      "82\t1\t0\t0\t0\t\r\n",
      "83\t1\t0\t0\t0\t\r\n",
      "84\t1\t0\t0\t0\t\r\n",
      "85\t1\t0\t0\t0\t\r\n",
      "86\t1\t0\t0\t0\t\r\n",
      "87\t1\t0\t0\t0\t\r\n",
      "88\t1\t0\t0\t0\t\r\n",
      "89\t1\t0\t0\t0\t\r\n",
      "90\t1\t0\t0\t0\t\r\n",
      "91\t1\t0\t0\t0\t\r\n",
      "92\t1\t0\t0\t0\t\r\n",
      "93\t1\t0\t0\t0\t\r\n",
      "94\t1\t0\t0\t0\t\r\n",
      "95\t1\t0\t0\t0\t\r\n",
      "96\t1\t0\t0\t0\t\r\n",
      "97\t1\t0\t0\t0\t\r\n",
      "98\t1\t0\t0\t0\t\r\n",
      "99\t1\t0\t0\t0\t\r\n",
      "100\t1\t0\t0\t0\t\r\n"
     ]
    }
   ],
   "source": [
    "!cat result/trajectories/trajectory0.txt"
   ]
  },
  {
   "cell_type": "code",
   "execution_count": null,
   "metadata": {
    "collapsed": true
   },
   "outputs": [],
   "source": []
  }
 ],
 "metadata": {
  "kernelspec": {
   "display_name": "Python 2",
   "language": "python",
   "name": "python2"
  },
  "language_info": {
   "codemirror_mode": {
    "name": "ipython",
    "version": 2
   },
   "file_extension": ".py",
   "mimetype": "text/x-python",
   "name": "python",
   "nbconvert_exporter": "python",
   "pygments_lexer": "ipython2",
   "version": "2.7.10"
  }
 },
 "nbformat": 4,
 "nbformat_minor": 0
}
