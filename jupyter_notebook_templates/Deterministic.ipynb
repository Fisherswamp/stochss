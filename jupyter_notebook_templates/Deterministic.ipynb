{
 "cells": [
  {
   "cell_type": "markdown",
   "metadata": {},
   "source": [
    "# StochSS Analysis for Deterministic Simulation"
   ]
  },
  {
   "cell_type": "code",
   "execution_count": 1,
   "metadata": {
    "collapsed": false
   },
   "outputs": [
    {
     "name": "stdout",
     "output_type": "stream",
     "text": [
      "Using matplotlib backend: MacOSX\n"
     ]
    }
   ],
   "source": [
    "%matplotlib\n",
    "%matplotlib inline\n",
    "import numpy\n",
    "from matplotlib import pylab as plt"
   ]
  },
  {
   "cell_type": "code",
   "execution_count": 2,
   "metadata": {
    "collapsed": true
   },
   "outputs": [],
   "source": [
    "import numpy\n",
    "import gillespy"
   ]
  },
  {
   "cell_type": "code",
   "execution_count": 16,
   "metadata": {
    "collapsed": false
   },
   "outputs": [
    {
     "name": "stdout",
     "output_type": "stream",
     "text": [
      "['time', 'G_F', 'G_O', 'P', 'mRNA']\n"
     ]
    }
   ],
   "source": [
    "trajectory = gillespy.StochKitODESolver().get_trajectories('result')[0]\n",
    "result_file_name = 'result/output.txt'\n",
    "with open(result_file_name, 'r') as f:\n",
    "    first_line= f.readline()\n",
    "    first_line= f.readline()\n",
    "    labels = first_line.split()\n",
    "    print labels"
   ]
  },
  {
   "cell_type": "code",
   "execution_count": 22,
   "metadata": {
    "collapsed": false
   },
   "outputs": [
    {
     "data": {
      "text/plain": [
       "<matplotlib.legend.Legend at 0x112c89990>"
      ]
     },
     "execution_count": 22,
     "metadata": {},
     "output_type": "execute_result"
    },
    {
     "data": {
      "image/png": "[encoded data removed]",
      "text/plain": [
       "<matplotlib.figure.Figure at 0x112c89290>"
      ]
     },
     "metadata": {},
     "output_type": "display_data"
    }
   ],
   "source": [
    "for ndx,name in enumerate(labels):\n",
    "    if ndx>0:\n",
    "        plt.plot(trajectory[:,0],trajectory[:,ndx],'-', label=name)\n",
    "plt.legend(loc='best')"
   ]
  },
  {
   "cell_type": "code",
   "execution_count": 23,
   "metadata": {
    "collapsed": false
   },
   "outputs": [
    {
     "name": "stdout",
     "output_type": "stream",
     "text": [
      "Sensitivity: NO \r\n",
      "time\t\tG_F\t\tG_O\t\tP\t\tmRNA\t\t\r\n",
      "2.0000e-03\t1.0000e+07\t1.0000e-02\t1.5000e-02\t6.0000e-04\t3.0000e-04\t\r\n",
      "0.0000e+00\t  4.488050e-11\t  0.000000e+00\t  0.000000e+00\t  0.000000e+00\t\r\n",
      "-----------------------------------------------------------------------\r\n",
      "1.0000e+00\t  4.488049e-11\t  5.018470e-18\t  3.481665e-15\t  8.962136e-14\t\r\n",
      "2.0000e+00\t  4.488049e-11\t  1.262290e-17\t  8.541674e-15\t  1.791794e-13\t\r\n",
      "3.0000e+00\t  4.488048e-11\t  2.022733e-17\t  1.360168e-14\t  2.687374e-13\t\r\n",
      "4.0000e+00\t  4.488035e-11\t  1.539250e-16\t  2.855906e-14\t  3.578812e-13\t\r\n",
      "5.0000e+00\t  4.487978e-11\t  7.232404e-16\t  7.770915e-14\t  4.455938e-13\t\r\n",
      "6.0000e+00\t  4.487921e-11\t  1.292556e-15\t  1.268592e-13\t  5.333065e-13\t\r\n",
      "7.0000e+00\t  4.487864e-11\t  1.861871e-15\t  1.760093e-13\t  6.210191e-13\t\r\n",
      "8.0000e+00\t  4.487807e-11\t  2.431187e-15\t  2.251594e-13\t  7.087318e-13\t\r\n",
      "9.0000e+00\t  4.487750e-11\t  3.000502e-15\t  2.743095e-13\t  7.964444e-13\t\r\n",
      "1.0000e+01\t  4.487693e-11\t  3.569817e-15\t  3.234596e-13\t  8.841570e-13\t\r\n",
      "1.1000e+01\t  4.487636e-11\t  4.139133e-15\t  3.726097e-13\t  9.718697e-13\t\r\n",
      "1.2000e+01\t  4.487579e-11\t  4.708448e-15\t  4.217597e-13\t  1.059582e-12\t\r\n",
      "1.3000e+01\t  4.487522e-11\t  5.277763e-15\t  4.709098e-13\t  1.147295e-12\t\r\n",
      "1.4000e+01\t  4.487465e-11\t  5.847079e-15\t  5.200599e-13\t  1.235008e-12\t\r\n",
      "1.5000e+01\t  4.487408e-11\t  6.416394e-15\t  5.692100e-13\t  1.322720e-12\t\r\n",
      "1.6000e+01\t  4.487351e-11\t  6.985710e-15\t  6.183601e-13\t  1.410433e-12\t\r\n",
      "1.7000e+01\t  4.487294e-11\t  7.555025e-15\t  6.675102e-13\t  1.498145e-12\t\r\n",
      "1.8000e+01\t  4.487238e-11\t  8.124340e-15\t  7.166602e-13\t  1.585858e-12\t\r\n",
      "1.9000e+01\t  4.487181e-11\t  8.693656e-15\t  7.658103e-13\t  1.673571e-12\t\r\n",
      "2.0000e+01\t  4.487124e-11\t  9.262971e-15\t  8.149604e-13\t  1.761283e-12\t\r\n",
      "2.1000e+01\t  4.487067e-11\t  9.832287e-15\t  8.641105e-13\t  1.848996e-12\t\r\n",
      "2.2000e+01\t  4.487010e-11\t  1.040160e-14\t  9.132606e-13\t  1.936709e-12\t\r\n",
      "2.3000e+01\t  4.486953e-11\t  1.097092e-14\t  9.624107e-13\t  2.024421e-12\t\r\n",
      "2.4000e+01\t  4.486896e-11\t  1.154023e-14\t  1.011561e-12\t  2.112134e-12\t\r\n",
      "2.5000e+01\t  4.486839e-11\t  1.210955e-14\t  1.060711e-12\t  2.199847e-12\t\r\n",
      "2.6000e+01\t  4.486782e-11\t  1.267886e-14\t  1.109861e-12\t  2.287559e-12\t\r\n",
      "2.7000e+01\t  4.486725e-11\t  1.324818e-14\t  1.159011e-12\t  2.375272e-12\t\r\n",
      "2.8000e+01\t  4.486668e-11\t  1.381749e-14\t  1.208161e-12\t  2.462984e-12\t\r\n",
      "2.9000e+01\t  4.486611e-11\t  1.438681e-14\t  1.257311e-12\t  2.550697e-12\t\r\n",
      "3.0000e+01\t  4.486554e-11\t  1.495612e-14\t  1.306461e-12\t  2.638410e-12\t\r\n",
      "3.1000e+01\t  4.486497e-11\t  1.552544e-14\t  1.355611e-12\t  2.726122e-12\t\r\n",
      "3.2000e+01\t  4.486441e-11\t  1.609476e-14\t  1.404761e-12\t  2.813835e-12\t\r\n",
      "3.3000e+01\t  4.486384e-11\t  1.666407e-14\t  1.453912e-12\t  2.901548e-12\t\r\n",
      "3.4000e+01\t  4.486327e-11\t  1.723339e-14\t  1.503062e-12\t  2.989260e-12\t\r\n",
      "3.5000e+01\t  4.486270e-11\t  1.780270e-14\t  1.552212e-12\t  3.076973e-12\t\r\n",
      "3.6000e+01\t  4.486213e-11\t  1.837202e-14\t  1.601362e-12\t  3.164686e-12\t\r\n",
      "3.7000e+01\t  4.486156e-11\t  1.894133e-14\t  1.650512e-12\t  3.252398e-12\t\r\n",
      "3.8000e+01\t  4.486099e-11\t  1.951065e-14\t  1.699662e-12\t  3.340111e-12\t\r\n",
      "3.9000e+01\t  4.485011e-11\t  3.038857e-14\t  2.012770e-12\t  3.408154e-12\t\r\n",
      "4.0000e+01\t  4.483811e-11\t  4.238789e-14\t  2.354591e-12\t  3.474058e-12\t\r\n",
      "4.1000e+01\t  4.482611e-11\t  5.438722e-14\t  2.696413e-12\t  3.539962e-12\t\r\n",
      "4.2000e+01\t  4.481411e-11\t  6.638654e-14\t  3.038234e-12\t  3.605866e-12\t\r\n",
      "4.3000e+01\t  4.480211e-11\t  7.838586e-14\t  3.380056e-12\t  3.671769e-12\t\r\n",
      "4.4000e+01\t  4.479011e-11\t  9.038518e-14\t  3.721878e-12\t  3.737673e-12\t\r\n",
      "4.5000e+01\t  4.477812e-11\t  1.023845e-13\t  4.063699e-12\t  3.803577e-12\t\r\n",
      "4.6000e+01\t  4.476612e-11\t  1.143838e-13\t  4.405521e-12\t  3.869481e-12\t\r\n",
      "4.7000e+01\t  4.475412e-11\t  1.263831e-13\t  4.747342e-12\t  3.935384e-12\t\r\n",
      "4.8000e+01\t  4.474212e-11\t  1.383825e-13\t  5.089164e-12\t  4.001288e-12\t\r\n",
      "4.9000e+01\t  4.473012e-11\t  1.503818e-13\t  5.430986e-12\t  4.067192e-12\t\r\n",
      "5.0000e+01\t  4.471812e-11\t  1.623811e-13\t  5.772807e-12\t  4.133096e-12\t\r\n",
      "5.1000e+01\t  4.470612e-11\t  1.743804e-13\t  6.114629e-12\t  4.198999e-12\t\r\n",
      "5.2000e+01\t  4.469412e-11\t  1.863798e-13\t  6.456451e-12\t  4.264903e-12\t\r\n",
      "5.3000e+01\t  4.468212e-11\t  1.983791e-13\t  6.798272e-12\t  4.330807e-12\t\r\n",
      "5.4000e+01\t  4.467012e-11\t  2.103784e-13\t  7.140094e-12\t  4.396711e-12\t\r\n",
      "5.5000e+01\t  4.465812e-11\t  2.223777e-13\t  7.481915e-12\t  4.462614e-12\t\r\n",
      "5.6000e+01\t  4.464612e-11\t  2.343770e-13\t  7.823737e-12\t  4.528518e-12\t\r\n",
      "5.7000e+01\t  4.463412e-11\t  2.463764e-13\t  8.165559e-12\t  4.594422e-12\t\r\n",
      "5.8000e+01\t  4.462212e-11\t  2.583757e-13\t  8.507380e-12\t  4.660326e-12\t\r\n",
      "5.9000e+01\t  4.461012e-11\t  2.703750e-13\t  8.849202e-12\t  4.726229e-12\t\r\n",
      "6.0000e+01\t  4.459813e-11\t  2.823743e-13\t  9.191023e-12\t  4.792133e-12\t\r\n",
      "6.1000e+01\t  4.458613e-11\t  2.943736e-13\t  9.532845e-12\t  4.858037e-12\t\r\n",
      "6.2000e+01\t  4.457413e-11\t  3.063730e-13\t  9.874667e-12\t  4.923941e-12\t\r\n",
      "6.3000e+01\t  4.456213e-11\t  3.183723e-13\t  1.021649e-11\t  4.989844e-12\t\r\n",
      "6.4000e+01\t  4.455013e-11\t  3.303716e-13\t  1.055831e-11\t  5.055748e-12\t\r\n",
      "6.5000e+01\t  4.453813e-11\t  3.423709e-13\t  1.090013e-11\t  5.121652e-12\t\r\n",
      "6.6000e+01\t  4.452613e-11\t  3.543703e-13\t  1.124195e-11\t  5.187556e-12\t\r\n",
      "6.7000e+01\t  4.451413e-11\t  3.663696e-13\t  1.158377e-11\t  5.253459e-12\t\r\n",
      "6.8000e+01\t  4.450213e-11\t  3.783689e-13\t  1.192560e-11\t  5.319363e-12\t\r\n",
      "6.9000e+01\t  4.449013e-11\t  3.903682e-13\t  1.226742e-11\t  5.385267e-12\t\r\n",
      "7.0000e+01\t  4.447813e-11\t  4.023675e-13\t  1.260924e-11\t  5.451171e-12\t\r\n",
      "7.1000e+01\t  4.446613e-11\t  4.143669e-13\t  1.295106e-11\t  5.517074e-12\t\r\n",
      "7.2000e+01\t  4.445413e-11\t  4.263662e-13\t  1.329288e-11\t  5.582978e-12\t\r\n",
      "7.3000e+01\t  4.444213e-11\t  4.383655e-13\t  1.363470e-11\t  5.648882e-12\t\r\n",
      "7.4000e+01\t  4.443014e-11\t  4.503648e-13\t  1.397653e-11\t  5.714786e-12\t\r\n",
      "7.5000e+01\t  4.441814e-11\t  4.623642e-13\t  1.431835e-11\t  5.780689e-12\t\r\n",
      "7.6000e+01\t  4.440614e-11\t  4.743635e-13\t  1.466017e-11\t  5.846593e-12\t\r\n",
      "7.7000e+01\t  4.439414e-11\t  4.863628e-13\t  1.500199e-11\t  5.912497e-12\t\r\n",
      "7.8000e+01\t  4.438214e-11\t  4.983621e-13\t  1.534381e-11\t  5.978401e-12\t\r\n",
      "7.9000e+01\t  4.437014e-11\t  5.103614e-13\t  1.568563e-11\t  6.044305e-12\t\r\n",
      "8.0000e+01\t  4.435814e-11\t  5.223608e-13\t  1.602746e-11\t  6.110208e-12\t\r\n",
      "8.1000e+01\t  4.434614e-11\t  5.343601e-13\t  1.636928e-11\t  6.176112e-12\t\r\n",
      "8.2000e+01\t  4.433414e-11\t  5.463594e-13\t  1.671110e-11\t  6.242016e-12\t\r\n",
      "8.3000e+01\t  4.432214e-11\t  5.583587e-13\t  1.705292e-11\t  6.307920e-12\t\r\n",
      "8.4000e+01\t  4.431014e-11\t  5.703580e-13\t  1.739474e-11\t  6.373823e-12\t\r\n",
      "8.5000e+01\t  4.429814e-11\t  5.823574e-13\t  1.773656e-11\t  6.439727e-12\t\r\n",
      "8.6000e+01\t  4.428614e-11\t  5.943567e-13\t  1.807839e-11\t  6.505631e-12\t\r\n",
      "8.7000e+01\t  4.427414e-11\t  6.063560e-13\t  1.842021e-11\t  6.571535e-12\t\r\n",
      "8.8000e+01\t  4.426214e-11\t  6.183553e-13\t  1.876203e-11\t  6.637438e-12\t\r\n",
      "8.9000e+01\t  4.425015e-11\t  6.303547e-13\t  1.910385e-11\t  6.703342e-12\t\r\n",
      "9.0000e+01\t  4.423815e-11\t  6.423540e-13\t  1.944567e-11\t  6.769246e-12\t\r\n",
      "9.1000e+01\t  4.422615e-11\t  6.543533e-13\t  1.978749e-11\t  6.835150e-12\t\r\n",
      "9.2000e+01\t  4.421415e-11\t  6.663526e-13\t  2.012931e-11\t  6.901053e-12\t\r\n",
      "9.3000e+01\t  4.420215e-11\t  6.783519e-13\t  2.047114e-11\t  6.966957e-12\t\r\n",
      "9.4000e+01\t  4.419015e-11\t  6.903513e-13\t  2.081296e-11\t  7.032861e-12\t\r\n",
      "9.5000e+01\t  4.417815e-11\t  7.023506e-13\t  2.115478e-11\t  7.098765e-12\t\r\n",
      "9.6000e+01\t  4.416615e-11\t  7.143499e-13\t  2.149660e-11\t  7.164668e-12\t\r\n",
      "9.7000e+01\t  4.415415e-11\t  7.263492e-13\t  2.183842e-11\t  7.230572e-12\t\r\n",
      "9.8000e+01\t  4.414215e-11\t  7.383485e-13\t  2.218024e-11\t  7.296476e-12\t\r\n",
      "9.9000e+01\t  4.413015e-11\t  7.503479e-13\t  2.252207e-11\t  7.362380e-12\t\r\n",
      "1.0000e+02\t  4.411815e-11\t  7.623472e-13\t  2.286389e-11\t  7.428283e-12\t\r\n"
     ]
    }
   ],
   "source": [
    "!cat result/output.txt"
   ]
  },
  {
   "cell_type": "code",
   "execution_count": null,
   "metadata": {
    "collapsed": true
   },
   "outputs": [],
   "source": []
  }
 ],
 "metadata": {
  "kernelspec": {
   "display_name": "Python 2",
   "language": "python",
   "name": "python2"
  },
  "language_info": {
   "codemirror_mode": {
    "name": "ipython",
    "version": 2
   },
   "file_extension": ".py",
   "mimetype": "text/x-python",
   "name": "python",
   "nbconvert_exporter": "python",
   "pygments_lexer": "ipython2",
   "version": "2.7.10"
  }
 },
 "nbformat": 4,
 "nbformat_minor": 0
}
